{
 "cells": [
  {
   "cell_type": "markdown",
   "id": "30fbcaa6",
   "metadata": {},
   "source": [
    "# Vegan Recipe Retrieval with LangChain + ChromaDB\n",
    "\n",
    "## Purpose\n",
    "\n",
    "The purpose of this Notebook is to look into building a RAG utilizing Langchain to Track and Chroma DB to build the Vector Database. In this venture the vegan recipe dataset provided by kaggle.\n",
    "\n",
    "## Table Of Contents\n",
    "\n",
    "1. Import Packages required and initial perparation\n",
    "2. Helper Function preparation\n",
    "3. Data Preparation\n",
    "4. Create Vector DB\n",
    "5. Prepare Simple RAG\n",
    "6. Sample Query"
   ]
  },
  {
   "cell_type": "markdown",
   "id": "ae9f7762",
   "metadata": {},
   "source": [
    "#### 1. Import Packages required and initial perparation"
   ]
  },
  {
   "cell_type": "code",
   "execution_count": 1,
   "id": "f8a6aeff",
   "metadata": {},
   "outputs": [],
   "source": [
    "# Use pandas to import the Vegan Recipe Kaggle Dataset\n",
    "import pandas as pd\n",
    "# Use to substitute string via regex\n",
    "import re\n",
    "# LangChain ChromaDB vector store initialization\n",
    "from langchain.vectorstores import Chroma\n",
    "# LangChain HuggingFaceEmbeddings for generating vector embeddings\n",
    "from langchain.embeddings import HuggingFaceEmbeddings\n",
    "# LangChain Document schema for storing individual recipe entries\n",
    "from langchain.schema import Document\n",
    "# Load environment variables from a .env file (e.g. for API keys or config)\n",
    "from dotenv import load_dotenv\n",
    "# Enables tracing of function executions for monitoring and debugging\n",
    "from langsmith import traceable\n",
    "# Imports OpenAI API client for interacting with OpenAI models\n",
    "from openai import OpenAI\n",
    "# Provides type hinting for lists to improve code clarity and checks\n",
    "from typing import List\n",
    "# Allows nested use of asyncio event loops, useful in interactive environments\n",
    "import nest_asyncio\n"
   ]
  },
  {
   "cell_type": "code",
   "execution_count": 2,
   "id": "16f94f0d",
   "metadata": {},
   "outputs": [
    {
     "data": {
      "text/html": [
       "<div>\n",
       "<style scoped>\n",
       "    .dataframe tbody tr th:only-of-type {\n",
       "        vertical-align: middle;\n",
       "    }\n",
       "\n",
       "    .dataframe tbody tr th {\n",
       "        vertical-align: top;\n",
       "    }\n",
       "\n",
       "    .dataframe thead th {\n",
       "        text-align: right;\n",
       "    }\n",
       "</style>\n",
       "<table border=\"1\" class=\"dataframe\">\n",
       "  <thead>\n",
       "    <tr style=\"text-align: right;\">\n",
       "      <th></th>\n",
       "      <th>Unnamed: 0</th>\n",
       "      <th>href</th>\n",
       "      <th>title</th>\n",
       "      <th>ingredients</th>\n",
       "      <th>preparation</th>\n",
       "    </tr>\n",
       "  </thead>\n",
       "  <tbody>\n",
       "    <tr>\n",
       "      <th>0</th>\n",
       "      <td>0</td>\n",
       "      <td>https://veganuary.com/recipes/rainbow-rice/</td>\n",
       "      <td>Rainbow Rice</td>\n",
       "      <td>\\nIngredients\\n\\nCarrot ribbons (just use a pe...</td>\n",
       "      <td>\\nMethod\\n\\nCook the rice as instructed on the...</td>\n",
       "    </tr>\n",
       "    <tr>\n",
       "      <th>1</th>\n",
       "      <td>1</td>\n",
       "      <td>https://veganuary.com/recipes/mfc-nachos/</td>\n",
       "      <td>Nachos</td>\n",
       "      <td>\\nIngredients\\n\\n400g Meatless Farm Co mince (...</td>\n",
       "      <td>\\nPreparation\\n\\nPreheat the oven to 350ºF\\nHe...</td>\n",
       "    </tr>\n",
       "    <tr>\n",
       "      <th>2</th>\n",
       "      <td>2</td>\n",
       "      <td>https://veganuary.com/recipes/hazelnut-truffles/</td>\n",
       "      <td>Hazelnut Truffles</td>\n",
       "      <td>\\nIngredients\\n\\n100g hazelnuts\\n2 tablespoons...</td>\n",
       "      <td>\\nMethod\\n\\nPreheat the oven to 200c\\nPut the ...</td>\n",
       "    </tr>\n",
       "    <tr>\n",
       "      <th>3</th>\n",
       "      <td>3</td>\n",
       "      <td>https://veganuary.com/recipes/simple-roasted-r...</td>\n",
       "      <td>Simple Roasted Radish by ChicP</td>\n",
       "      <td>\\nIngredients\\n\\n1 170g tub beetroot and horse...</td>\n",
       "      <td>\\nPreparation\\nPre heat the oven to 160°C\\nCut...</td>\n",
       "    </tr>\n",
       "    <tr>\n",
       "      <th>4</th>\n",
       "      <td>4</td>\n",
       "      <td>https://veganuary.com/recipes/baked-apple-char...</td>\n",
       "      <td>Baked Apple Charlotte</td>\n",
       "      <td>\\nIngredients\\n\\n2 tbsp rapeseed oil\\n75g pitt...</td>\n",
       "      <td>\\nPreparation\\n\\nServes 9\\nYou will need an 8i...</td>\n",
       "    </tr>\n",
       "  </tbody>\n",
       "</table>\n",
       "</div>"
      ],
      "text/plain": [
       "   Unnamed: 0                                               href  \\\n",
       "0           0        https://veganuary.com/recipes/rainbow-rice/   \n",
       "1           1          https://veganuary.com/recipes/mfc-nachos/   \n",
       "2           2   https://veganuary.com/recipes/hazelnut-truffles/   \n",
       "3           3  https://veganuary.com/recipes/simple-roasted-r...   \n",
       "4           4  https://veganuary.com/recipes/baked-apple-char...   \n",
       "\n",
       "                            title  \\\n",
       "0                    Rainbow Rice   \n",
       "1                          Nachos   \n",
       "2               Hazelnut Truffles   \n",
       "3  Simple Roasted Radish by ChicP   \n",
       "4           Baked Apple Charlotte   \n",
       "\n",
       "                                         ingredients  \\\n",
       "0  \\nIngredients\\n\\nCarrot ribbons (just use a pe...   \n",
       "1  \\nIngredients\\n\\n400g Meatless Farm Co mince (...   \n",
       "2  \\nIngredients\\n\\n100g hazelnuts\\n2 tablespoons...   \n",
       "3  \\nIngredients\\n\\n1 170g tub beetroot and horse...   \n",
       "4  \\nIngredients\\n\\n2 tbsp rapeseed oil\\n75g pitt...   \n",
       "\n",
       "                                         preparation  \n",
       "0  \\nMethod\\n\\nCook the rice as instructed on the...  \n",
       "1  \\nPreparation\\n\\nPreheat the oven to 350ºF\\nHe...  \n",
       "2  \\nMethod\\n\\nPreheat the oven to 200c\\nPut the ...  \n",
       "3  \\nPreparation\\nPre heat the oven to 160°C\\nCut...  \n",
       "4  \\nPreparation\\n\\nServes 9\\nYou will need an 8i...  "
      ]
     },
     "execution_count": 2,
     "metadata": {},
     "output_type": "execute_result"
    }
   ],
   "source": [
    "# Load Environment Variables\n",
    "load_dotenv()\n",
    "# bring in Vegan Recipe Kaggle Dataset\n",
    "df = pd.read_csv('Data/vegan_recipes.csv')\n",
    "# quick look into the data\n",
    "df.head()"
   ]
  },
  {
   "cell_type": "markdown",
   "id": "6b4a8e88",
   "metadata": {},
   "source": [
    "#### 2. Helper Function preparation\n",
    "\n",
    "- For Ingredients:\n",
    "    - Clean the 'Ingredient' substring to get rid of the newline ('\\n') and period tags ('\\n\\n')\n",
    "    - remove the newline ('\\n') and paragraph ('\\n\\n') specifiers from the rest of the text\n",
    "- For Preparation:\n",
    "    - Clean the 'Preparation' or 'Method' substring to get rid of the newline ('\\n') and period tags ('\\n\\n')\n",
    "    - remove the newline ('\\n') and paragraph ('\\n\\n') specifiers from the rest of the text"
   ]
  },
  {
   "cell_type": "code",
   "execution_count": 3,
   "id": "38b1bd9c",
   "metadata": {},
   "outputs": [],
   "source": [
    "# Helper Functions\n",
    "\n",
    "def cleanNewLineAndParagraph(stringToBeCleaned):\n",
    "    \"\"\"\n",
    "    Replaces all newline characters (\\n) in the given string with periods.\n",
    "    Useful for turning multiline text into single-line sentences for cleaner formatting.\n",
    "    \"\"\"\n",
    "    cleanNewLine = re.sub(r\"\\n\", \".\", stringToBeCleaned)\n",
    "    return cleanNewLine\n",
    "\n",
    "def cleanIngredients(IngredientString):\n",
    "    \"\"\"\n",
    "    Cleans the ingredients section by:\n",
    "    - Replacing the specific section header '\\nIngredients\\n\\n' with 'Ingredients:'\n",
    "    - Replacing newlines with periods for consistency.\n",
    "    \"\"\"\n",
    "    cleanedString = re.sub(r'\\nIngredients\\n\\n', 'Ingredients:', IngredientString)\n",
    "    cleanedStringSecond = cleanNewLineAndParagraph(cleanedString)\n",
    "    return cleanedStringSecond\n",
    "\n",
    "def cleanPreparation(PreparationString):\n",
    "    \"\"\"\n",
    "    Cleans the preparation section by:\n",
    "    - Removing specific section headers like '\\nMethod\\n\\n' and '\\nPreparation\\n\\n'\n",
    "    - Replacing newlines with periods for smoother readability.\n",
    "    \"\"\"\n",
    "    cleanedString = re.sub(r'\\nMethod\\n\\n', '', PreparationString)\n",
    "    cleanedStringSecond = re.sub(r'\\nPreparation\\n\\n', '', cleanedString)\n",
    "    cleanedStringThird = cleanNewLineAndParagraph(cleanedStringSecond)\n",
    "    return cleanedStringThird\n"
   ]
  },
  {
   "cell_type": "code",
   "execution_count": 4,
   "id": "80f8e839",
   "metadata": {},
   "outputs": [
    {
     "name": "stdout",
     "output_type": "stream",
     "text": [
      "Ingredients:2 cups flour.1 tsp sugar\n",
      "Serves 9.You will need an 8i..\n"
     ]
    }
   ],
   "source": [
    "# Sample of how the Values for ingreidents and preparation are cleaned.\n",
    "\n",
    "raw_ingredients = \"\\nIngredients\\n\\n2 cups flour\\n1 tsp sugar\"\n",
    "raw_preparation = \"\\nPreparation\\n\\nServes 9\\nYou will need an 8i..\"\n",
    "\n",
    "print(cleanIngredients(raw_ingredients))\n",
    "print(cleanPreparation(raw_preparation))"
   ]
  },
  {
   "cell_type": "markdown",
   "id": "8909d765",
   "metadata": {},
   "source": [
    "#### 3. Data Preparation\n",
    "\n",
    "- Prepare the main TokenStrings for Ingredients and Preparations"
   ]
  },
  {
   "cell_type": "code",
   "execution_count": 5,
   "id": "4b8012c3",
   "metadata": {},
   "outputs": [],
   "source": [
    "dfCleaned = df\n",
    "dfCleaned['ingredientsV2'] = dfCleaned['ingredients'].apply(lambda x : cleanIngredients(x))\n",
    "dfCleaned['preparationV2'] = dfCleaned['preparation'].apply(lambda x : cleanPreparation(x))\n",
    "dfCleaned['ingredientTokenStrings'] = 'These are the Ingredients for ' + dfCleaned['title'] + ': ' + dfCleaned['ingredientsV2']\n",
    "dfCleaned['preparationTokenStrings'] = 'These are the steps for ' + dfCleaned['title'] + ': ' + dfCleaned['preparationV2']"
   ]
  },
  {
   "cell_type": "code",
   "execution_count": 6,
   "id": "8295aea7",
   "metadata": {},
   "outputs": [
    {
     "data": {
      "text/html": [
       "<div>\n",
       "<style scoped>\n",
       "    .dataframe tbody tr th:only-of-type {\n",
       "        vertical-align: middle;\n",
       "    }\n",
       "\n",
       "    .dataframe tbody tr th {\n",
       "        vertical-align: top;\n",
       "    }\n",
       "\n",
       "    .dataframe thead th {\n",
       "        text-align: right;\n",
       "    }\n",
       "</style>\n",
       "<table border=\"1\" class=\"dataframe\">\n",
       "  <thead>\n",
       "    <tr style=\"text-align: right;\">\n",
       "      <th></th>\n",
       "      <th>title</th>\n",
       "      <th>href</th>\n",
       "      <th>ingredientTokenStrings</th>\n",
       "      <th>preparationTokenStrings</th>\n",
       "    </tr>\n",
       "  </thead>\n",
       "  <tbody>\n",
       "    <tr>\n",
       "      <th>0</th>\n",
       "      <td>Rainbow Rice</td>\n",
       "      <td>https://veganuary.com/recipes/rainbow-rice/</td>\n",
       "      <td>These are the Ingredients for Rainbow Rice: In...</td>\n",
       "      <td>These are the steps for Rainbow Rice: Cook the...</td>\n",
       "    </tr>\n",
       "    <tr>\n",
       "      <th>1</th>\n",
       "      <td>Nachos</td>\n",
       "      <td>https://veganuary.com/recipes/mfc-nachos/</td>\n",
       "      <td>These are the Ingredients for Nachos: Ingredie...</td>\n",
       "      <td>These are the steps for Nachos: Preheat the ov...</td>\n",
       "    </tr>\n",
       "    <tr>\n",
       "      <th>2</th>\n",
       "      <td>Hazelnut Truffles</td>\n",
       "      <td>https://veganuary.com/recipes/hazelnut-truffles/</td>\n",
       "      <td>These are the Ingredients for Hazelnut Truffle...</td>\n",
       "      <td>These are the steps for Hazelnut Truffles: Pre...</td>\n",
       "    </tr>\n",
       "    <tr>\n",
       "      <th>3</th>\n",
       "      <td>Simple Roasted Radish by ChicP</td>\n",
       "      <td>https://veganuary.com/recipes/simple-roasted-r...</td>\n",
       "      <td>These are the Ingredients for Simple Roasted R...</td>\n",
       "      <td>These are the steps for Simple Roasted Radish ...</td>\n",
       "    </tr>\n",
       "    <tr>\n",
       "      <th>4</th>\n",
       "      <td>Baked Apple Charlotte</td>\n",
       "      <td>https://veganuary.com/recipes/baked-apple-char...</td>\n",
       "      <td>These are the Ingredients for Baked Apple Char...</td>\n",
       "      <td>These are the steps for Baked Apple Charlotte:...</td>\n",
       "    </tr>\n",
       "  </tbody>\n",
       "</table>\n",
       "</div>"
      ],
      "text/plain": [
       "                            title  \\\n",
       "0                    Rainbow Rice   \n",
       "1                          Nachos   \n",
       "2               Hazelnut Truffles   \n",
       "3  Simple Roasted Radish by ChicP   \n",
       "4           Baked Apple Charlotte   \n",
       "\n",
       "                                                href  \\\n",
       "0        https://veganuary.com/recipes/rainbow-rice/   \n",
       "1          https://veganuary.com/recipes/mfc-nachos/   \n",
       "2   https://veganuary.com/recipes/hazelnut-truffles/   \n",
       "3  https://veganuary.com/recipes/simple-roasted-r...   \n",
       "4  https://veganuary.com/recipes/baked-apple-char...   \n",
       "\n",
       "                              ingredientTokenStrings  \\\n",
       "0  These are the Ingredients for Rainbow Rice: In...   \n",
       "1  These are the Ingredients for Nachos: Ingredie...   \n",
       "2  These are the Ingredients for Hazelnut Truffle...   \n",
       "3  These are the Ingredients for Simple Roasted R...   \n",
       "4  These are the Ingredients for Baked Apple Char...   \n",
       "\n",
       "                             preparationTokenStrings  \n",
       "0  These are the steps for Rainbow Rice: Cook the...  \n",
       "1  These are the steps for Nachos: Preheat the ov...  \n",
       "2  These are the steps for Hazelnut Truffles: Pre...  \n",
       "3  These are the steps for Simple Roasted Radish ...  \n",
       "4  These are the steps for Baked Apple Charlotte:...  "
      ]
     },
     "execution_count": 6,
     "metadata": {},
     "output_type": "execute_result"
    }
   ],
   "source": [
    "# Look into the first 5 rows of the new dataframe containing data for vectorDB Storage\n",
    "dfCleaned[['title','href','ingredientTokenStrings','preparationTokenStrings']].head()"
   ]
  },
  {
   "cell_type": "markdown",
   "id": "8143fd4c",
   "metadata": {},
   "source": [
    "#### 4. Create Vector DB\n",
    "\n",
    "- Embedding Model all-MiniLM-L6-v2 was chosen because it was light weight, readily available and free and a good starting embedding model\n",
    "- Each Document is in the form of :\n",
    "\n",
    "    ```python\n",
    "    Document(\n",
    "        metadata={\n",
    "            'type': '',\n",
    "            'title': '',\n",
    "            'link': ''\n",
    "        },\n",
    "        page_content=''\n",
    "    )\n",
    "    ```\n"
   ]
  },
  {
   "cell_type": "code",
   "execution_count": 7,
   "id": "add1210e",
   "metadata": {},
   "outputs": [
    {
     "name": "stderr",
     "output_type": "stream",
     "text": [
      "C:\\Users\\hoonD\\AppData\\Local\\Temp\\ipykernel_25644\\3137869414.py:2: LangChainDeprecationWarning: The class `HuggingFaceEmbeddings` was deprecated in LangChain 0.2.2 and will be removed in 1.0. An updated version of the class exists in the :class:`~langchain-huggingface package and should be used instead. To use it run `pip install -U :class:`~langchain-huggingface` and import as `from :class:`~langchain_huggingface import HuggingFaceEmbeddings``.\n",
      "  embedding_model = HuggingFaceEmbeddings(model_name=\"all-MiniLM-L6-v2\")\n",
      "c:\\Users\\hoonD\\OneDrive\\Documents\\SimpleVeganRecipeRAG20250629\\SciFiEnvPython\\Lib\\site-packages\\tqdm\\auto.py:21: TqdmWarning: IProgress not found. Please update jupyter and ipywidgets. See https://ipywidgets.readthedocs.io/en/stable/user_install.html\n",
      "  from .autonotebook import tqdm as notebook_tqdm\n"
     ]
    }
   ],
   "source": [
    "# Embedding model \n",
    "embedding_model = HuggingFaceEmbeddings(model_name=\"all-MiniLM-L6-v2\")\n",
    "\n",
    "# Folder where ChromaDB will store vectors\n",
    "persist_directory = \"veganRecipeChromaDB\"\n",
    "\n",
    "# Prepare documents array to feed into vectoDB Store veganRecipeChromaDB\n",
    "documents = []\n",
    "\n",
    "for idx, row in dfCleaned.iterrows():\n",
    "    title = row['title']\n",
    "    link = row['href']\n",
    "\n",
    "    # Add Documents for Ingredients\n",
    "    documents.append(Document(\n",
    "        page_content=row['ingredientTokenStrings'],\n",
    "        metadata={\"type\": \"ingredients\", \"title\": title, \"link\": link}\n",
    "    ))\n",
    "\n",
    "    # Add Documents for Preparation\n",
    "    documents.append(Document(\n",
    "        page_content=row['preparationTokenStrings'],\n",
    "        metadata={\"type\": \"preparation\", \"title\": title, \"link\": link}\n",
    "    ))\n"
   ]
  },
  {
   "cell_type": "code",
   "execution_count": 8,
   "id": "17a54c08",
   "metadata": {},
   "outputs": [
    {
     "name": "stderr",
     "output_type": "stream",
     "text": [
      "Failed to send telemetry event ClientStartEvent: capture() takes 1 positional argument but 3 were given\n",
      "Failed to send telemetry event ClientCreateCollectionEvent: capture() takes 1 positional argument but 3 were given\n",
      "C:\\Users\\hoonD\\AppData\\Local\\Temp\\ipykernel_25644\\356742556.py:8: LangChainDeprecationWarning: Since Chroma 0.4.x the manual persistence method is no longer supported as docs are automatically persisted.\n",
      "  vectorstore.persist()\n"
     ]
    }
   ],
   "source": [
    "# Creates the Vectorstore and embed the data\n",
    "vectorstore = Chroma.from_documents(\n",
    "    documents,\n",
    "    embedding=embedding_model,\n",
    "    persist_directory=persist_directory\n",
    ")\n",
    "# Saves vectorstore a folder\n",
    "vectorstore.persist()"
   ]
  },
  {
   "cell_type": "markdown",
   "id": "5eb95972",
   "metadata": {},
   "source": [
    "- Test Retrieval, get the most relevant 5 Documents to the query. The L2 Norm distance formula is used here."
   ]
  },
  {
   "cell_type": "code",
   "execution_count": 9,
   "id": "3c051372",
   "metadata": {},
   "outputs": [
    {
     "name": "stderr",
     "output_type": "stream",
     "text": [
      "C:\\Users\\hoonD\\AppData\\Local\\Temp\\ipykernel_25644\\3939503987.py:4: LangChainDeprecationWarning: The method `BaseRetriever.get_relevant_documents` was deprecated in langchain-core 0.1.46 and will be removed in 1.0. Use :meth:`~invoke` instead.\n",
      "  docs = retriever.get_relevant_documents(query)\n",
      "Failed to send telemetry event CollectionQueryEvent: capture() takes 1 positional argument but 3 were given\n"
     ]
    },
    {
     "name": "stdout",
     "output_type": "stream",
     "text": [
      "-----\n",
      "Title: Thai Prawn-Style Vegan Curry\n",
      "Type: preparation\n",
      "Link: https://veganuary.com/recipes/thai-prawn-style-vegan-curry/\n",
      "Content:\n",
      " These are the steps for Thai Prawn-Style Vegan Curry: Heat the oil in a large frying pan and fry the onion and red pepper until soft..Add the coconut milk and cook-in sauce to the pan and mix well..Add the zucchini and baby corn and simmer for 5–7 minutes..Stir in flash-fried Prawn-Style Pieces and sugar snap peas. Garnish with chopped spring onions and serve with rice...\n",
      "-----\n",
      "Title: Vegan ‘Chicken’ Salad\n",
      "Type: ingredients\n",
      "Link: https://simple-veganista.com/cranberry-walnut-chickpea-salad-sandwic/\n",
      "Content:\n",
      " These are the Ingredients for Vegan ‘Chicken’ Salad: ..Ingredients:..Scale.1x2x3x .....3 cups cooked or 2 cans (15 oz) chickpeas (garbanzo beans), drained and rinsed.1 cup celery, diced.1/2 cup organic dried cranberries (chopped fresh would be great too).1/2 cup walnuts or pecans, roughly chopped.1/2 cup scallions (green onions), thinly sliced, white & green parts.mineral salt & freshly ground pepper, to taste (I used about 1/2 teaspoon each)..Dressing..6 tablespoons (1/3 cup) tahini or vegan mayo.4 tablespoons (1/4 cup) champagne, white wine or cider vinegar (I used Orange Muscat Champagne Vinegar).2 tablespoons water (as needed if using tahini).1 tablespoon pure maple syrup..To serve..leafy lettuce of choice.bread of choice...\n",
      "-----\n",
      "Title: Thai Prawn-Style Vegan Curry\n",
      "Type: ingredients\n",
      "Link: https://veganuary.com/recipes/thai-prawn-style-vegan-curry/\n",
      "Content:\n",
      " These are the Ingredients for Thai Prawn-Style Vegan Curry: Ingredients:1 box Fry’s Tempura Battered Prawn-Style Pieces, flash-fried (or similar plant-based prawn alternative).30 ml oil.70 g red onion, sliced.1 red pepper, sliced in strips.1 tin coconut milk.1 packet of your favourite Thai Red Curry Cook-In-Sauce.200 g zucchini, sliced at an angle.100 g baby corn, sliced.100 g sugar-snap peas, sliced.4 tsp spring onions, chopped, to serve.4 cups cooked rice, to serve..\n",
      "-----\n",
      "Title: BEST CURRIED CHICKPEA SALAD\n",
      "Type: ingredients\n",
      "Link: https://simple-veganista.com/curried-chickpea-salad/\n",
      "Content:\n",
      " These are the Ingredients for BEST CURRIED CHICKPEA SALAD: ..Ingredients:..Scale.1x2x3x .....3 cups cooked or 2 cans (15 oz.) chickpeas (garbanzo beans), drained and rinsed.2 – 3 carrots (about 1 cup), diced.3 – 4 scallions/green onions (about 1 cup), sliced.1/2 cup raisins, dried currants, or chopped dates.1/2 cup cashews (pref. raw).1/2 – 2/3 cup vegan mayo (or thinned hummus or tahini, see notes).juice of one lemon.1 tablespoon curry powder, + more to taste.3/4 teaspoon garlic powder.mineral salt & cracked pepper to taste...\n",
      "-----\n",
      "Title: Vegetable Curry\n",
      "Type: preparation\n",
      "Link: https://veganuary.com/recipes/vegetable-curry/\n",
      "Content:\n",
      " These are the steps for Vegetable Curry: .Preparation.Serves 4..Replace the chickpeas with lentils if you want a more crunchy bite..This vegetable curry is made using Provamel soya alternative to yogurt free from sugars..Heat the oil in a skillet...Add the tikka masala and the onion...Add the cauliflower tomatoes and put the lid on...Mix in the chick peas, spinach and parboiled potatoes and cook another 15 mins...Season with salt and pepper and spoon in the soya alternative to yogurt..Like this recipe? Sign up to Veganuary today to get recipes like this delivered directly to your inbox..\n"
     ]
    }
   ],
   "source": [
    "retriever = vectorstore.as_retriever(search_kwargs={\"k\": 5})\n",
    "\n",
    "query = \"I like chicken curry. However since im now vegan What dish would you recommend?\"\n",
    "docs = retriever.get_relevant_documents(query)\n",
    "\n",
    "for doc in docs:\n",
    "    print(\"-----\")\n",
    "    print(\"Title:\", doc.metadata.get(\"title\"))\n",
    "    print(\"Type:\", doc.metadata.get(\"type\"))\n",
    "    print(\"Link:\", doc.metadata.get(\"link\"))\n",
    "    print(\"Content:\\n\", doc.page_content)\n"
   ]
  },
  {
   "cell_type": "markdown",
   "id": "3028ae37",
   "metadata": {},
   "source": [
    "#### 5. Prepare Simple RAG\n",
    "\n",
    "The Code was partially copied from a Tutorial on Langchain Academy. The code below ensures that logging can be seen on langchain"
   ]
  },
  {
   "cell_type": "code",
   "execution_count": 10,
   "id": "856e9b2d",
   "metadata": {},
   "outputs": [],
   "source": [
    "MODEL_PROVIDER = \"openai\"\n",
    "MODEL_NAME = \"gpt-4o-mini\"\n",
    "APP_VERSION = 1.0\n",
    "RAG_SYSTEM_PROMPT = \"\"\"You are an assistant for answer questions about vegan recipes. \n",
    "Use the following pieces of retrieved context to answer the latest question in the conversation. \n",
    "If you don't know the answer, just say that you don't know. \n",
    "Use three sentences maximum and keep the answer concise.\n",
    "\"\"\"\n",
    "\n",
    "openai_client = OpenAI()\n",
    "nest_asyncio.apply()\n",
    "\n",
    "\n",
    "\"\"\"\n",
    "retrieve_documents\n",
    "- Returns documents fetched from a vectorstore based on the user's question\n",
    "\"\"\"\n",
    "@traceable(run_type=\"chain\")\n",
    "def retrieve_documents(question: str):\n",
    "    return retriever.get_relevant_documents(question)\n",
    "\n",
    "\"\"\"\n",
    "generate_response\n",
    "- Calls `call_openai` to generate a model response after formatting inputs\n",
    "\"\"\"\n",
    "@traceable(run_type=\"chain\")\n",
    "def generate_response(question: str, documents):\n",
    "    formatted_docs = \"\\n\\n\".join(doc.page_content for doc in documents)\n",
    "    messages = [\n",
    "        {\n",
    "            \"role\": \"system\",\n",
    "            \"content\": RAG_SYSTEM_PROMPT\n",
    "        },\n",
    "        {\n",
    "            \"role\": \"user\",\n",
    "            \"content\": f\"Context: {formatted_docs} \\n\\n Question: {question}\"\n",
    "        }\n",
    "    ]\n",
    "    return call_openai(messages)\n",
    "\n",
    "\"\"\"\n",
    "call_openai\n",
    "- Returns the chat completion output from OpenAI\n",
    "\"\"\"\n",
    "@traceable(run_type=\"llm\")\n",
    "def call_openai(\n",
    "    messages: List[dict], model: str = MODEL_NAME, temperature: float = 0.0\n",
    ") -> str:\n",
    "    return openai_client.chat.completions.create(\n",
    "        model=model,\n",
    "        messages=messages,\n",
    "        temperature=temperature,\n",
    "    )\n",
    "\n",
    "\"\"\"\n",
    "langsmith_rag\n",
    "- Calls `retrieve_documents` to fetch documents\n",
    "- Calls `generate_response` to generate a response based on the fetched documents\n",
    "- Returns the model response\n",
    "\"\"\"\n",
    "@traceable(run_type=\"chain\")\n",
    "def langsmith_rag(question: str):\n",
    "    documents = retrieve_documents(question)\n",
    "    response = generate_response(question, documents)\n",
    "    return response.choices[0].message.content\n"
   ]
  },
  {
   "cell_type": "markdown",
   "id": "5a48e505",
   "metadata": {},
   "source": [
    "#### 6. Sample Query\n",
    "\n",
    "Time to test out the RAG!"
   ]
  },
  {
   "cell_type": "code",
   "execution_count": 11,
   "id": "af363dc7",
   "metadata": {},
   "outputs": [
    {
     "name": "stdout",
     "output_type": "stream",
     "text": [
      "Some recipes where tomatoes are pertinent include the Heirloom Tomato & Endive Salad, which features heirloom tomatoes and grape heirloom tomatoes, and the Mediterranean Tomato Tart, which uses large tomatoes as a key ingredient. Additionally, the Moroccan-Style Lentil, Chickpea and Kale Soup includes cherry tomatoes and chopped tomatoes. These dishes highlight the versatility of tomatoes in various vegan recipes.\n"
     ]
    }
   ],
   "source": [
    "question = \"What are some recipes where tomatoes are pertinent?\"\n",
    "ai_answer = langsmith_rag(question, langsmith_extra={\"metadata\": {\"website\": \"www.google.com\"}})\n",
    "print(ai_answer)"
   ]
  }
 ],
 "metadata": {
  "kernelspec": {
   "display_name": "SciFiEnvPython",
   "language": "python",
   "name": "python3"
  },
  "language_info": {
   "codemirror_mode": {
    "name": "ipython",
    "version": 3
   },
   "file_extension": ".py",
   "mimetype": "text/x-python",
   "name": "python",
   "nbconvert_exporter": "python",
   "pygments_lexer": "ipython3",
   "version": "3.13.5"
  }
 },
 "nbformat": 4,
 "nbformat_minor": 5
}
