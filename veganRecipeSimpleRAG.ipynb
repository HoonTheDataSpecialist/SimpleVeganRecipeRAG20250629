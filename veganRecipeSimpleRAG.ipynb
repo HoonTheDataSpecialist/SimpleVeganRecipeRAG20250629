{
 "cells": [
  {
   "cell_type": "code",
   "execution_count": 17,
   "id": "f8a6aeff",
   "metadata": {},
   "outputs": [],
   "source": [
    "import pandas as pd\n",
    "import re\n",
    "import chromadb\n",
    "from langchain.vectorstores import Chroma\n",
    "from langchain.embeddings import HuggingFaceEmbeddings\n",
    "from langchain.schema import Document\n",
    "import os"
   ]
  },
  {
   "cell_type": "code",
   "execution_count": 18,
   "id": "d1fb71a1",
   "metadata": {},
   "outputs": [
    {
     "data": {
      "text/plain": [
       "True"
      ]
     },
     "execution_count": 18,
     "metadata": {},
     "output_type": "execute_result"
    }
   ],
   "source": [
    "from dotenv import load_dotenv\n",
    "load_dotenv()"
   ]
  },
  {
   "cell_type": "code",
   "execution_count": 19,
   "id": "16f94f0d",
   "metadata": {},
   "outputs": [],
   "source": [
    "df = pd.read_csv('vegan_recipes.csv')"
   ]
  },
  {
   "cell_type": "code",
   "execution_count": 20,
   "id": "8cd46a3d",
   "metadata": {},
   "outputs": [
    {
     "data": {
      "text/html": [
       "<div>\n",
       "<style scoped>\n",
       "    .dataframe tbody tr th:only-of-type {\n",
       "        vertical-align: middle;\n",
       "    }\n",
       "\n",
       "    .dataframe tbody tr th {\n",
       "        vertical-align: top;\n",
       "    }\n",
       "\n",
       "    .dataframe thead th {\n",
       "        text-align: right;\n",
       "    }\n",
       "</style>\n",
       "<table border=\"1\" class=\"dataframe\">\n",
       "  <thead>\n",
       "    <tr style=\"text-align: right;\">\n",
       "      <th></th>\n",
       "      <th>Unnamed: 0</th>\n",
       "      <th>href</th>\n",
       "      <th>title</th>\n",
       "      <th>ingredients</th>\n",
       "      <th>preparation</th>\n",
       "    </tr>\n",
       "  </thead>\n",
       "  <tbody>\n",
       "    <tr>\n",
       "      <th>0</th>\n",
       "      <td>0</td>\n",
       "      <td>https://veganuary.com/recipes/rainbow-rice/</td>\n",
       "      <td>Rainbow Rice</td>\n",
       "      <td>\\nIngredients\\n\\nCarrot ribbons (just use a pe...</td>\n",
       "      <td>\\nMethod\\n\\nCook the rice as instructed on the...</td>\n",
       "    </tr>\n",
       "    <tr>\n",
       "      <th>1</th>\n",
       "      <td>1</td>\n",
       "      <td>https://veganuary.com/recipes/mfc-nachos/</td>\n",
       "      <td>Nachos</td>\n",
       "      <td>\\nIngredients\\n\\n400g Meatless Farm Co mince (...</td>\n",
       "      <td>\\nPreparation\\n\\nPreheat the oven to 350ºF\\nHe...</td>\n",
       "    </tr>\n",
       "    <tr>\n",
       "      <th>2</th>\n",
       "      <td>2</td>\n",
       "      <td>https://veganuary.com/recipes/hazelnut-truffles/</td>\n",
       "      <td>Hazelnut Truffles</td>\n",
       "      <td>\\nIngredients\\n\\n100g hazelnuts\\n2 tablespoons...</td>\n",
       "      <td>\\nMethod\\n\\nPreheat the oven to 200c\\nPut the ...</td>\n",
       "    </tr>\n",
       "    <tr>\n",
       "      <th>3</th>\n",
       "      <td>3</td>\n",
       "      <td>https://veganuary.com/recipes/simple-roasted-r...</td>\n",
       "      <td>Simple Roasted Radish by ChicP</td>\n",
       "      <td>\\nIngredients\\n\\n1 170g tub beetroot and horse...</td>\n",
       "      <td>\\nPreparation\\nPre heat the oven to 160°C\\nCut...</td>\n",
       "    </tr>\n",
       "    <tr>\n",
       "      <th>4</th>\n",
       "      <td>4</td>\n",
       "      <td>https://veganuary.com/recipes/baked-apple-char...</td>\n",
       "      <td>Baked Apple Charlotte</td>\n",
       "      <td>\\nIngredients\\n\\n2 tbsp rapeseed oil\\n75g pitt...</td>\n",
       "      <td>\\nPreparation\\n\\nServes 9\\nYou will need an 8i...</td>\n",
       "    </tr>\n",
       "  </tbody>\n",
       "</table>\n",
       "</div>"
      ],
      "text/plain": [
       "   Unnamed: 0                                               href  \\\n",
       "0           0        https://veganuary.com/recipes/rainbow-rice/   \n",
       "1           1          https://veganuary.com/recipes/mfc-nachos/   \n",
       "2           2   https://veganuary.com/recipes/hazelnut-truffles/   \n",
       "3           3  https://veganuary.com/recipes/simple-roasted-r...   \n",
       "4           4  https://veganuary.com/recipes/baked-apple-char...   \n",
       "\n",
       "                            title  \\\n",
       "0                    Rainbow Rice   \n",
       "1                          Nachos   \n",
       "2               Hazelnut Truffles   \n",
       "3  Simple Roasted Radish by ChicP   \n",
       "4           Baked Apple Charlotte   \n",
       "\n",
       "                                         ingredients  \\\n",
       "0  \\nIngredients\\n\\nCarrot ribbons (just use a pe...   \n",
       "1  \\nIngredients\\n\\n400g Meatless Farm Co mince (...   \n",
       "2  \\nIngredients\\n\\n100g hazelnuts\\n2 tablespoons...   \n",
       "3  \\nIngredients\\n\\n1 170g tub beetroot and horse...   \n",
       "4  \\nIngredients\\n\\n2 tbsp rapeseed oil\\n75g pitt...   \n",
       "\n",
       "                                         preparation  \n",
       "0  \\nMethod\\n\\nCook the rice as instructed on the...  \n",
       "1  \\nPreparation\\n\\nPreheat the oven to 350ºF\\nHe...  \n",
       "2  \\nMethod\\n\\nPreheat the oven to 200c\\nPut the ...  \n",
       "3  \\nPreparation\\nPre heat the oven to 160°C\\nCut...  \n",
       "4  \\nPreparation\\n\\nServes 9\\nYou will need an 8i...  "
      ]
     },
     "execution_count": 20,
     "metadata": {},
     "output_type": "execute_result"
    }
   ],
   "source": [
    "# quick look into the data\n",
    "df.head()"
   ]
  },
  {
   "cell_type": "code",
   "execution_count": 21,
   "id": "38b1bd9c",
   "metadata": {},
   "outputs": [],
   "source": [
    "# Helper Functions\n",
    "def cleanNewLineAndParagraph(stringToBeCleaned):\n",
    "    cleanNewLine = re.sub(r\"\\n\", \".\",stringToBeCleaned)\n",
    "    return cleanNewLine\n",
    "\n",
    "def cleanIngredients(IngredientString):\n",
    "    cleanedString = re.sub(r'\\nIngredients\\n\\n','Ingredients:',IngredientString)\n",
    "    cleanedStringSecond = cleanNewLineAndParagraph(cleanedString)\n",
    "    return cleanedStringSecond\n",
    "\n",
    "def cleanPreparation(PreparationString):\n",
    "    cleanedString = re.sub(r'\\nMethod\\n\\n','',PreparationString)\n",
    "    cleanedStringSecond = re.sub(r'\\nPreparation\\n\\n','',cleanedString)\n",
    "    cleanedStringThird = cleanNewLineAndParagraph(cleanedStringSecond)\n",
    "    return cleanedStringThird"
   ]
  },
  {
   "cell_type": "code",
   "execution_count": 22,
   "id": "80f8e839",
   "metadata": {},
   "outputs": [
    {
     "name": "stdout",
     "output_type": "stream",
     "text": [
      "Ingredients:2 cups flour.1 tsp sugar\n",
      "Serves 9.You will need an 8i..\n"
     ]
    }
   ],
   "source": [
    "raw_ingredients = \"\\nIngredients\\n\\n2 cups flour\\n1 tsp sugar\"\n",
    "raw_preparation = \"\\nPreparation\\n\\nServes 9\\nYou will need an 8i..\"\n",
    "\n",
    "print(cleanIngredients(raw_ingredients))\n",
    "print(cleanPreparation(raw_preparation))"
   ]
  },
  {
   "cell_type": "code",
   "execution_count": 23,
   "id": "4b8012c3",
   "metadata": {},
   "outputs": [],
   "source": [
    "dfCleaned = df\n",
    "dfCleaned['ingredientsV2'] = dfCleaned['ingredients'].apply(lambda x : cleanIngredients(x))\n",
    "dfCleaned['preparationV2'] = dfCleaned['preparation'].apply(lambda x : cleanPreparation(x))\n",
    "dfCleaned['ingredientToken'] = 'These are the Ingredients for ' + dfCleaned['title'] + ': ' + dfCleaned['ingredientsV2']\n",
    "dfCleaned['preparationToken'] = 'These are the steps for ' + dfCleaned['title'] + ': ' + dfCleaned['preparationV2']"
   ]
  },
  {
   "cell_type": "code",
   "execution_count": 24,
   "id": "8295aea7",
   "metadata": {},
   "outputs": [
    {
     "data": {
      "text/html": [
       "<div>\n",
       "<style scoped>\n",
       "    .dataframe tbody tr th:only-of-type {\n",
       "        vertical-align: middle;\n",
       "    }\n",
       "\n",
       "    .dataframe tbody tr th {\n",
       "        vertical-align: top;\n",
       "    }\n",
       "\n",
       "    .dataframe thead th {\n",
       "        text-align: right;\n",
       "    }\n",
       "</style>\n",
       "<table border=\"1\" class=\"dataframe\">\n",
       "  <thead>\n",
       "    <tr style=\"text-align: right;\">\n",
       "      <th></th>\n",
       "      <th>title</th>\n",
       "      <th>href</th>\n",
       "      <th>ingredientToken</th>\n",
       "      <th>preparationToken</th>\n",
       "    </tr>\n",
       "  </thead>\n",
       "  <tbody>\n",
       "    <tr>\n",
       "      <th>0</th>\n",
       "      <td>Rainbow Rice</td>\n",
       "      <td>https://veganuary.com/recipes/rainbow-rice/</td>\n",
       "      <td>These are the Ingredients for Rainbow Rice: In...</td>\n",
       "      <td>These are the steps for Rainbow Rice: Cook the...</td>\n",
       "    </tr>\n",
       "    <tr>\n",
       "      <th>1</th>\n",
       "      <td>Nachos</td>\n",
       "      <td>https://veganuary.com/recipes/mfc-nachos/</td>\n",
       "      <td>These are the Ingredients for Nachos: Ingredie...</td>\n",
       "      <td>These are the steps for Nachos: Preheat the ov...</td>\n",
       "    </tr>\n",
       "    <tr>\n",
       "      <th>2</th>\n",
       "      <td>Hazelnut Truffles</td>\n",
       "      <td>https://veganuary.com/recipes/hazelnut-truffles/</td>\n",
       "      <td>These are the Ingredients for Hazelnut Truffle...</td>\n",
       "      <td>These are the steps for Hazelnut Truffles: Pre...</td>\n",
       "    </tr>\n",
       "    <tr>\n",
       "      <th>3</th>\n",
       "      <td>Simple Roasted Radish by ChicP</td>\n",
       "      <td>https://veganuary.com/recipes/simple-roasted-r...</td>\n",
       "      <td>These are the Ingredients for Simple Roasted R...</td>\n",
       "      <td>These are the steps for Simple Roasted Radish ...</td>\n",
       "    </tr>\n",
       "    <tr>\n",
       "      <th>4</th>\n",
       "      <td>Baked Apple Charlotte</td>\n",
       "      <td>https://veganuary.com/recipes/baked-apple-char...</td>\n",
       "      <td>These are the Ingredients for Baked Apple Char...</td>\n",
       "      <td>These are the steps for Baked Apple Charlotte:...</td>\n",
       "    </tr>\n",
       "  </tbody>\n",
       "</table>\n",
       "</div>"
      ],
      "text/plain": [
       "                            title  \\\n",
       "0                    Rainbow Rice   \n",
       "1                          Nachos   \n",
       "2               Hazelnut Truffles   \n",
       "3  Simple Roasted Radish by ChicP   \n",
       "4           Baked Apple Charlotte   \n",
       "\n",
       "                                                href  \\\n",
       "0        https://veganuary.com/recipes/rainbow-rice/   \n",
       "1          https://veganuary.com/recipes/mfc-nachos/   \n",
       "2   https://veganuary.com/recipes/hazelnut-truffles/   \n",
       "3  https://veganuary.com/recipes/simple-roasted-r...   \n",
       "4  https://veganuary.com/recipes/baked-apple-char...   \n",
       "\n",
       "                                     ingredientToken  \\\n",
       "0  These are the Ingredients for Rainbow Rice: In...   \n",
       "1  These are the Ingredients for Nachos: Ingredie...   \n",
       "2  These are the Ingredients for Hazelnut Truffle...   \n",
       "3  These are the Ingredients for Simple Roasted R...   \n",
       "4  These are the Ingredients for Baked Apple Char...   \n",
       "\n",
       "                                    preparationToken  \n",
       "0  These are the steps for Rainbow Rice: Cook the...  \n",
       "1  These are the steps for Nachos: Preheat the ov...  \n",
       "2  These are the steps for Hazelnut Truffles: Pre...  \n",
       "3  These are the steps for Simple Roasted Radish ...  \n",
       "4  These are the steps for Baked Apple Charlotte:...  "
      ]
     },
     "execution_count": 24,
     "metadata": {},
     "output_type": "execute_result"
    }
   ],
   "source": [
    "dfCleaned[['title','href','ingredientToken','preparationToken']].head()"
   ]
  },
  {
   "cell_type": "code",
   "execution_count": 25,
   "id": "9baad0eb",
   "metadata": {},
   "outputs": [
    {
     "name": "stderr",
     "output_type": "stream",
     "text": [
      "Failed to send telemetry event ClientStartEvent: capture() takes 1 positional argument but 3 were given\n",
      "Failed to send telemetry event ClientCreateCollectionEvent: capture() takes 1 positional argument but 3 were given\n"
     ]
    }
   ],
   "source": [
    "chroma_client = chromadb.Client()\n",
    "collection = chroma_client.get_or_create_collection(name=\"veganRecipes\")"
   ]
  },
  {
   "cell_type": "code",
   "execution_count": 26,
   "id": "add1210e",
   "metadata": {},
   "outputs": [],
   "source": [
    "# Embedding model\n",
    "embedding_model = HuggingFaceEmbeddings(model_name=\"all-MiniLM-L6-v2\")\n",
    "\n",
    "# Folder where ChromaDB will store vectors\n",
    "persist_directory = \"veganRecipeChromaDB\"\n",
    "\n",
    "# Prepare documents from dfCleaned\n",
    "documents = []\n",
    "\n",
    "for idx, row in dfCleaned.iterrows():\n",
    "    title = row['title']\n",
    "    link = row['href']\n",
    "\n",
    "    # Ingredients\n",
    "    documents.append(Document(\n",
    "        page_content=row['ingredientToken'],\n",
    "        metadata={\"type\": \"ingredients\", \"title\": title, \"link\": link}\n",
    "    ))\n",
    "\n",
    "    # Preparation\n",
    "    documents.append(Document(\n",
    "        page_content=row['preparationToken'],\n",
    "        metadata={\"type\": \"preparation\", \"title\": title, \"link\": link}\n",
    "    ))\n"
   ]
  },
  {
   "cell_type": "code",
   "execution_count": 27,
   "id": "17a54c08",
   "metadata": {},
   "outputs": [
    {
     "name": "stderr",
     "output_type": "stream",
     "text": [
      "Failed to send telemetry event ClientStartEvent: capture() takes 1 positional argument but 3 were given\n",
      "Failed to send telemetry event ClientCreateCollectionEvent: capture() takes 1 positional argument but 3 were given\n"
     ]
    }
   ],
   "source": [
    "vectorstore = Chroma.from_documents(\n",
    "    documents,\n",
    "    embedding=embedding_model,\n",
    "    persist_directory=persist_directory\n",
    ")\n",
    "\n",
    "vectorstore.persist()\n"
   ]
  },
  {
   "cell_type": "code",
   "execution_count": 28,
   "id": "3c051372",
   "metadata": {},
   "outputs": [
    {
     "name": "stdout",
     "output_type": "stream",
     "text": [
      "-----\n",
      "Title: Thai Prawn-Style Vegan Curry\n",
      "Type: preparation\n",
      "Link: https://veganuary.com/recipes/thai-prawn-style-vegan-curry/\n",
      "Content:\n",
      " These are the steps for Thai Prawn-Style Vegan Curry: Heat the oil in a large frying pan and fry the onion and red pepper until soft..Add the coconut milk and cook-in sauce to the pan and mix well..Add the zucchini and baby corn and simmer for 5–7 minutes..Stir in flash-fried Prawn-Style Pieces and sugar snap peas. Garnish with chopped spring onions and serve with rice...\n",
      "-----\n",
      "Title: Thai Prawn-Style Vegan Curry\n",
      "Type: preparation\n",
      "Link: https://veganuary.com/recipes/thai-prawn-style-vegan-curry/\n",
      "Content:\n",
      " These are the steps for Thai Prawn-Style Vegan Curry: Heat the oil in a large frying pan and fry the onion and red pepper until soft..Add the coconut milk and cook-in sauce to the pan and mix well..Add the zucchini and baby corn and simmer for 5–7 minutes..Stir in flash-fried Prawn-Style Pieces and sugar snap peas. Garnish with chopped spring onions and serve with rice...\n",
      "-----\n",
      "Title: Thai Prawn-Style Vegan Curry\n",
      "Type: preparation\n",
      "Link: https://veganuary.com/recipes/thai-prawn-style-vegan-curry/\n",
      "Content:\n",
      " These are the steps for Thai Prawn-Style Vegan Curry: Heat the oil in a large frying pan and fry the onion and red pepper until soft..Add the coconut milk and cook-in sauce to the pan and mix well..Add the zucchini and baby corn and simmer for 5–7 minutes..Stir in flash-fried Prawn-Style Pieces and sugar snap peas. Garnish with chopped spring onions and serve with rice...\n",
      "-----\n",
      "Title: Vegan ‘Chicken’ Salad\n",
      "Type: ingredients\n",
      "Link: https://simple-veganista.com/cranberry-walnut-chickpea-salad-sandwic/\n",
      "Content:\n",
      " These are the Ingredients for Vegan ‘Chicken’ Salad: ..Ingredients:..Scale.1x2x3x .....3 cups cooked or 2 cans (15 oz) chickpeas (garbanzo beans), drained and rinsed.1 cup celery, diced.1/2 cup organic dried cranberries (chopped fresh would be great too).1/2 cup walnuts or pecans, roughly chopped.1/2 cup scallions (green onions), thinly sliced, white & green parts.mineral salt & freshly ground pepper, to taste (I used about 1/2 teaspoon each)..Dressing..6 tablespoons (1/3 cup) tahini or vegan mayo.4 tablespoons (1/4 cup) champagne, white wine or cider vinegar (I used Orange Muscat Champagne Vinegar).2 tablespoons water (as needed if using tahini).1 tablespoon pure maple syrup..To serve..leafy lettuce of choice.bread of choice...\n",
      "-----\n",
      "Title: Vegan ‘Chicken’ Salad\n",
      "Type: ingredients\n",
      "Link: https://simple-veganista.com/cranberry-walnut-chickpea-salad-sandwic/\n",
      "Content:\n",
      " These are the Ingredients for Vegan ‘Chicken’ Salad: ..Ingredients:..Scale.1x2x3x .....3 cups cooked or 2 cans (15 oz) chickpeas (garbanzo beans), drained and rinsed.1 cup celery, diced.1/2 cup organic dried cranberries (chopped fresh would be great too).1/2 cup walnuts or pecans, roughly chopped.1/2 cup scallions (green onions), thinly sliced, white & green parts.mineral salt & freshly ground pepper, to taste (I used about 1/2 teaspoon each)..Dressing..6 tablespoons (1/3 cup) tahini or vegan mayo.4 tablespoons (1/4 cup) champagne, white wine or cider vinegar (I used Orange Muscat Champagne Vinegar).2 tablespoons water (as needed if using tahini).1 tablespoon pure maple syrup..To serve..leafy lettuce of choice.bread of choice...\n"
     ]
    }
   ],
   "source": [
    "retriever = vectorstore.as_retriever(search_kwargs={\"k\": 5})\n",
    "\n",
    "query = \"I like chicken curry. However since im now vegan What dish would you recommend?\"\n",
    "docs = retriever.get_relevant_documents(query)\n",
    "\n",
    "for doc in docs:\n",
    "    print(\"-----\")\n",
    "    print(\"Title:\", doc.metadata.get(\"title\"))\n",
    "    print(\"Type:\", doc.metadata.get(\"type\"))\n",
    "    print(\"Link:\", doc.metadata.get(\"link\"))\n",
    "    print(\"Content:\\n\", doc.page_content)\n"
   ]
  },
  {
   "cell_type": "code",
   "execution_count": 29,
   "id": "856e9b2d",
   "metadata": {},
   "outputs": [],
   "source": [
    "from langsmith import traceable\n",
    "from openai import OpenAI\n",
    "from typing import List\n",
    "import nest_asyncio\n",
    "\n",
    "\n",
    "MODEL_PROVIDER = \"openai\"\n",
    "MODEL_NAME = \"gpt-4o-mini\"\n",
    "APP_VERSION = 1.0\n",
    "RAG_SYSTEM_PROMPT = \"\"\"You are an assistant for answer questions about vegan recipes. \n",
    "Use the following pieces of retrieved context to answer the latest question in the conversation. \n",
    "If you don't know the answer, just say that you don't know. \n",
    "Use three sentences maximum and keep the answer concise.\n",
    "\"\"\"\n",
    "\n",
    "openai_client = OpenAI()\n",
    "nest_asyncio.apply()\n",
    "\n",
    "\n",
    "\"\"\"\n",
    "retrieve_documents\n",
    "- Returns documents fetched from a vectorstore based on the user's question\n",
    "\"\"\"\n",
    "@traceable(run_type=\"chain\")\n",
    "def retrieve_documents(question: str):\n",
    "    return retriever.get_relevant_documents(question)\n",
    "\n",
    "\"\"\"\n",
    "generate_response\n",
    "- Calls `call_openai` to generate a model response after formatting inputs\n",
    "\"\"\"\n",
    "@traceable(run_type=\"chain\")\n",
    "def generate_response(question: str, documents):\n",
    "    formatted_docs = \"\\n\\n\".join(doc.page_content for doc in documents)\n",
    "    messages = [\n",
    "        {\n",
    "            \"role\": \"system\",\n",
    "            \"content\": RAG_SYSTEM_PROMPT\n",
    "        },\n",
    "        {\n",
    "            \"role\": \"user\",\n",
    "            \"content\": f\"Context: {formatted_docs} \\n\\n Question: {question}\"\n",
    "        }\n",
    "    ]\n",
    "    return call_openai(messages)\n",
    "\n",
    "\"\"\"\n",
    "call_openai\n",
    "- Returns the chat completion output from OpenAI\n",
    "\"\"\"\n",
    "@traceable(run_type=\"llm\")\n",
    "def call_openai(\n",
    "    messages: List[dict], model: str = MODEL_NAME, temperature: float = 0.0\n",
    ") -> str:\n",
    "    return openai_client.chat.completions.create(\n",
    "        model=model,\n",
    "        messages=messages,\n",
    "        temperature=temperature,\n",
    "    )\n",
    "\n",
    "\"\"\"\n",
    "langsmith_rag\n",
    "- Calls `retrieve_documents` to fetch documents\n",
    "- Calls `generate_response` to generate a response based on the fetched documents\n",
    "- Returns the model response\n",
    "\"\"\"\n",
    "@traceable(run_type=\"chain\")\n",
    "def langsmith_rag(question: str):\n",
    "    documents = retrieve_documents(question)\n",
    "    response = generate_response(question, documents)\n",
    "    return response.choices[0].message.content\n"
   ]
  },
  {
   "cell_type": "code",
   "execution_count": 30,
   "id": "af363dc7",
   "metadata": {},
   "outputs": [
    {
     "name": "stdout",
     "output_type": "stream",
     "text": [
      "Two recipes where tomatoes are key ingredients are the Heirloom Tomato & Endive Salad and the Moroccan-Style Lentil, Chickpea and Kale Soup. The salad features medium heirloom tomatoes and grape heirloom tomatoes, while the soup includes cherry tomatoes and canned chopped tomatoes. Both recipes highlight the flavor and versatility of tomatoes in vegan dishes.\n"
     ]
    }
   ],
   "source": [
    "question = \"What are some recipes where tomatoes are pertinent?\"\n",
    "ai_answer = langsmith_rag(question, langsmith_extra={\"metadata\": {\"website\": \"www.google.com\"}})\n",
    "print(ai_answer)"
   ]
  }
 ],
 "metadata": {
  "kernelspec": {
   "display_name": "SciFiEnvPython",
   "language": "python",
   "name": "python3"
  },
  "language_info": {
   "codemirror_mode": {
    "name": "ipython",
    "version": 3
   },
   "file_extension": ".py",
   "mimetype": "text/x-python",
   "name": "python",
   "nbconvert_exporter": "python",
   "pygments_lexer": "ipython3",
   "version": "3.13.5"
  }
 },
 "nbformat": 4,
 "nbformat_minor": 5
}
